{
  "nbformat": 4,
  "nbformat_minor": 0,
  "metadata": {
    "colab": {
      "provenance": []
    },
    "kernelspec": {
      "name": "python3",
      "display_name": "Python 3"
    },
    "language_info": {
      "name": "python"
    }
  },
  "cells": [
    {
      "cell_type": "markdown",
      "source": [
        "## Module 6: Model Selection & Regularization Techniques for Regression"
      ],
      "metadata": {
        "id": "wkEaOGeq5sNl"
      }
    },
    {
      "cell_type": "markdown",
      "source": [
        "### Step 0\n",
        "\n",
        "Load the appropriate libraries and bring in the data. Note that we have to run a script to get the [California Housing dataset](https://scikit-learn.org/stable/modules/generated/sklearn.datasets.fetch_california_housing.html) to match as it is in scikit-learn. We cannot pull it directly from scikit-learn since CodeGrade cannot access the internet."
      ],
      "metadata": {
        "id": "_QFUWt-bDtZ4"
      }
    },
    {
      "cell_type": "code",
      "execution_count": null,
      "metadata": {
        "id": "WApTZEFl5qUu"
      },
      "outputs": [],
      "source": [
        "# CodeGrade step0\n",
        "\n",
        "from sklearn.datasets import fetch_california_housing\n",
        "import pandas as pd\n",
        "import numpy as np\n",
        "import matplotlib.pyplot as plt\n",
        "from sklearn.linear_model import LinearRegression\n",
        "from scipy.stats import pearsonr\n",
        "import os\n",
        "import tarfile\n",
        "import joblib # Import joblib directly\n",
        "from sklearn.datasets._base import _pkl_filepath, get_data_home\n",
        "import statsmodels.api as sm\n",
        "import statsmodels.formula.api as smf\n",
        "import seaborn as sns\n",
        "from sklearn.linear_model import Ridge\n",
        "from sklearn.model_selection import train_test_split\n",
        "from sklearn.metrics import mean_squared_error\n",
        "from sklearn.linear_model import Lasso\n",
        "from sklearn.preprocessing import StandardScaler\n",
        "from sklearn.linear_model import LogisticRegression\n",
        "from sklearn.metrics import confusion_matrix, accuracy_score, classification_report\n",
        "\n",
        "\n",
        "archive_path = \"cal_housing.tgz\" # change the path if it's not in the current directory\n",
        "data_home = get_data_home(data_home=None) # change data_home if you are not using ~/scikit_learn_data\n",
        "if not os.path.exists(data_home):\n",
        "    os.makedirs(data_home)\n",
        "filepath = _pkl_filepath(data_home, 'cal_housing.pkz')\n",
        "\n",
        "with tarfile.open(mode=\"r:gz\", name=archive_path) as f:\n",
        "    cal_housing = np.loadtxt(\n",
        "        f.extractfile('CaliforniaHousing/cal_housing.data'),\n",
        "        delimiter=',')\n",
        "    # Columns are not in the same order compared to the previous\n",
        "    # URL resource on lib.stat.cmu.edu\n",
        "    columns_index = [8, 7, 2, 3, 4, 5, 6, 1, 0]\n",
        "    cal_housing = cal_housing[:, columns_index]\n",
        "\n",
        "    joblib.dump(cal_housing, filepath, compress=6) # Now using the directly imported joblib\n",
        "\n",
        "# Load dataset\n",
        "california = fetch_california_housing(as_frame=True)\n",
        "data = california.data\n",
        "data['MedianHouseValue'] = california.target\n",
        "\n",
        "# Define predictors and response variable\n",
        "X = data[['MedInc', 'AveRooms', 'AveOccup']]  # Select predictors\n",
        "y = data['MedianHouseValue']  # Response variable"
      ]
    },
    {
      "cell_type": "markdown",
      "source": [
        "Print the basic information of the data using `.info()` and `.describe`."
      ],
      "metadata": {
        "id": "DRwRoMZKD1uN"
      }
    },
    {
      "cell_type": "code",
      "source": [
        "# Display dataset structure\n"
      ],
      "metadata": {
        "id": "ZKGgOm_16ae4"
      },
      "execution_count": null,
      "outputs": []
    },
    {
      "cell_type": "markdown",
      "source": [
        "### Step 1\n",
        "\n",
        "Add a constant to `X`, calling it `X_const`.\n",
        "\n",
        "Now let `full_model` be the OLS model of `y` and `X_const`.\n",
        "\n",
        "Rounding to the nearest whole number, return the full model's aic and bic, separated by a comma."
      ],
      "metadata": {
        "id": "bYvcPH0qD2_T"
      }
    },
    {
      "cell_type": "code",
      "source": [
        "# CodeGrade step1\n"
      ],
      "metadata": {
        "id": "RbSPPaC66bHY"
      },
      "execution_count": null,
      "outputs": []
    },
    {
      "cell_type": "markdown",
      "source": [
        "### Step 2\n",
        "\n",
        "\n",
        "Let `subset1` be the OLS model fit with `MedInc` and `AveRooms` and `subset2` be the OLS model fit with `MedInc` and `AveOccup`.\n",
        "\n",
        "Again rounding to the nearest whole number, give the AIC and BIC for the first subset and then the the same two information criteria for the second subset. These four values should be separated by commas."
      ],
      "metadata": {
        "id": "2Y9G-kILD5Am"
      }
    },
    {
      "cell_type": "code",
      "source": [
        "# CodeGrade step2\n"
      ],
      "metadata": {
        "id": "gDPJK3L36jXF"
      },
      "execution_count": null,
      "outputs": []
    },
    {
      "cell_type": "markdown",
      "source": [
        "Run the below code without change for the ridge model."
      ],
      "metadata": {
        "id": "qb-cwQA9D7Ng"
      }
    },
    {
      "cell_type": "code",
      "source": [
        "# CodeGrade step0\n",
        "\n",
        "seed = 42\n",
        "\n",
        "# Split data\n",
        "X_train, X_test, y_train, y_test = train_test_split(X, y, test_size=0.2, random_state=42)\n",
        "\n",
        "# Ridge regression\n",
        "ridge = Ridge(alpha=1.0)\n",
        "ridge.fit(X_train, y_train)"
      ],
      "metadata": {
        "id": "tPEJvFmX69q8"
      },
      "execution_count": null,
      "outputs": []
    },
    {
      "cell_type": "markdown",
      "source": [
        "### Step 3\n",
        "\n",
        "Define `ridge_pred` as the prediction of `X_test` and `ridge_mse` as the mean squared error of `y_test` and `ridge_pred`.\n",
        "\n",
        "Return `ridge_mse`, rounded to four decimal places."
      ],
      "metadata": {
        "id": "8T9z_1R9D9eQ"
      }
    },
    {
      "cell_type": "code",
      "source": [
        "# CodeGrade step3\n"
      ],
      "metadata": {
        "id": "UzlojVFm-5TQ"
      },
      "execution_count": null,
      "outputs": []
    },
    {
      "cell_type": "markdown",
      "source": [
        "### Step 4\n",
        "\n",
        "Return `ridge.coef_`."
      ],
      "metadata": {
        "id": "E6axuVpxD-qE"
      }
    },
    {
      "cell_type": "code",
      "source": [
        "# CodeGrade step4\n",
        "\n"
      ],
      "metadata": {
        "id": "GrLFZmq17uFi"
      },
      "execution_count": null,
      "outputs": []
    },
    {
      "cell_type": "markdown",
      "source": [
        "Run the below code without change for the lasso model."
      ],
      "metadata": {
        "id": "BnX1yZhoD_0B"
      }
    },
    {
      "cell_type": "code",
      "source": [
        "# CodeGrade step0\n",
        "\n",
        "# Lasso regression\n",
        "lasso = Lasso(alpha=0.1)\n",
        "lasso.fit(X_train, y_train)"
      ],
      "metadata": {
        "id": "B-ZMyNmm8H7b"
      },
      "execution_count": null,
      "outputs": []
    },
    {
      "cell_type": "markdown",
      "source": [
        "### Step 5\n",
        "\n",
        "\n",
        "Define `lasso_pred` as the prediction of `X_test` and `lasso_mse` as the mean squared error of `y_test` and `lasso_pred`.\n",
        "\n",
        "Return `lasso_mse`, rounded to four decimal places."
      ],
      "metadata": {
        "id": "ce-t35yJEMtx"
      }
    },
    {
      "cell_type": "code",
      "source": [
        "# CodeGrade step5\n"
      ],
      "metadata": {
        "id": "OFngsMfI_GSo"
      },
      "execution_count": null,
      "outputs": []
    },
    {
      "cell_type": "markdown",
      "source": [
        "Print all of the results."
      ],
      "metadata": {
        "id": "L2ATlz6hEOj5"
      }
    },
    {
      "cell_type": "code",
      "source": [
        "# Print all model results\n"
      ],
      "metadata": {
        "id": "BkXO8IFF8cMT"
      },
      "execution_count": null,
      "outputs": []
    }
  ]
}