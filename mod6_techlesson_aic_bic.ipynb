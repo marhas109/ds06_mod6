{
 "cells": [
  {
   "cell_type": "markdown",
   "id": "63d6a928",
   "metadata": {},
   "source": [
    "### Using AIC and BIC to Optimize a Housing Price Model ###\n",
    "\n",
    "We'll use the Boston Housing dataset, which includes 506 rows and 14 variables, providing insights into the relationship between housing prices (medv, the response variable) and predictors such as:\n",
    "\n",
    "- CRIM: per capita crime rate by town.\n",
    "- RM: average number of rooms per dwelling.\n",
    "- LSTAT: percentage of lower-status population.\n",
    "- AGE: proportion of owner-occupied units built before 1940.\n",
    "- TAX: property tax rate."
   ]
  },
  {
   "cell_type": "markdown",
   "id": "bf7c1bee",
   "metadata": {},
   "source": [
    "#### Data Setup and Initial Exploration ####"
   ]
  },
  {
   "cell_type": "code",
   "execution_count": 1,
   "id": "3d201d32",
   "metadata": {},
   "outputs": [
    {
     "name": "stdout",
     "output_type": "stream",
     "text": [
      "   rownames     crim    zn  indus  chas    nox     rm   age     dis  rad  tax  \\\n",
      "0         1  0.00632  18.0   2.31     0  0.538  6.575  65.2  4.0900    1  296   \n",
      "1         2  0.02731   0.0   7.07     0  0.469  6.421  78.9  4.9671    2  242   \n",
      "2         3  0.02729   0.0   7.07     0  0.469  7.185  61.1  4.9671    2  242   \n",
      "3         4  0.03237   0.0   2.18     0  0.458  6.998  45.8  6.0622    3  222   \n",
      "4         5  0.06905   0.0   2.18     0  0.458  7.147  54.2  6.0622    3  222   \n",
      "\n",
      "   ptratio   black  lstat  medv  \n",
      "0     15.3  396.90   4.98  24.0  \n",
      "1     17.8  396.90   9.14  21.6  \n",
      "2     17.8  392.83   4.03  34.7  \n",
      "3     18.7  394.63   2.94  33.4  \n",
      "4     18.7  396.90   5.33  36.2  \n",
      "<class 'pandas.core.frame.DataFrame'>\n",
      "RangeIndex: 506 entries, 0 to 505\n",
      "Data columns (total 15 columns):\n",
      " #   Column    Non-Null Count  Dtype  \n",
      "---  ------    --------------  -----  \n",
      " 0   rownames  506 non-null    int64  \n",
      " 1   crim      506 non-null    float64\n",
      " 2   zn        506 non-null    float64\n",
      " 3   indus     506 non-null    float64\n",
      " 4   chas      506 non-null    int64  \n",
      " 5   nox       506 non-null    float64\n",
      " 6   rm        506 non-null    float64\n",
      " 7   age       506 non-null    float64\n",
      " 8   dis       506 non-null    float64\n",
      " 9   rad       506 non-null    int64  \n",
      " 10  tax       506 non-null    int64  \n",
      " 11  ptratio   506 non-null    float64\n",
      " 12  black     506 non-null    float64\n",
      " 13  lstat     506 non-null    float64\n",
      " 14  medv      506 non-null    float64\n",
      "dtypes: float64(11), int64(4)\n",
      "memory usage: 59.4 KB\n",
      "None\n",
      "         rownames        crim          zn       indus        chas         nox  \\\n",
      "count  506.000000  506.000000  506.000000  506.000000  506.000000  506.000000   \n",
      "mean   253.500000    3.613524   11.363636   11.136779    0.069170    0.554695   \n",
      "std    146.213884    8.601545   23.322453    6.860353    0.253994    0.115878   \n",
      "min      1.000000    0.006320    0.000000    0.460000    0.000000    0.385000   \n",
      "25%    127.250000    0.082045    0.000000    5.190000    0.000000    0.449000   \n",
      "50%    253.500000    0.256510    0.000000    9.690000    0.000000    0.538000   \n",
      "75%    379.750000    3.677083   12.500000   18.100000    0.000000    0.624000   \n",
      "max    506.000000   88.976200  100.000000   27.740000    1.000000    0.871000   \n",
      "\n",
      "               rm         age         dis         rad         tax     ptratio  \\\n",
      "count  506.000000  506.000000  506.000000  506.000000  506.000000  506.000000   \n",
      "mean     6.284634   68.574901    3.795043    9.549407  408.237154   18.455534   \n",
      "std      0.702617   28.148861    2.105710    8.707259  168.537116    2.164946   \n",
      "min      3.561000    2.900000    1.129600    1.000000  187.000000   12.600000   \n",
      "25%      5.885500   45.025000    2.100175    4.000000  279.000000   17.400000   \n",
      "50%      6.208500   77.500000    3.207450    5.000000  330.000000   19.050000   \n",
      "75%      6.623500   94.075000    5.188425   24.000000  666.000000   20.200000   \n",
      "max      8.780000  100.000000   12.126500   24.000000  711.000000   22.000000   \n",
      "\n",
      "            black       lstat        medv  \n",
      "count  506.000000  506.000000  506.000000  \n",
      "mean   356.674032   12.653063   22.532806  \n",
      "std     91.294864    7.141062    9.197104  \n",
      "min      0.320000    1.730000    5.000000  \n",
      "25%    375.377500    6.950000   17.025000  \n",
      "50%    391.440000   11.360000   21.200000  \n",
      "75%    396.225000   16.955000   25.000000  \n",
      "max    396.900000   37.970000   50.000000  \n"
     ]
    }
   ],
   "source": [
    "#! pip install rdatasets\n",
    "\n",
    "import pandas as pd\n",
    "import statsmodels.api as sm\n",
    "from sklearn.model_selection import train_test_split\n",
    "from rdatasets import data as rdata\n",
    "\n",
    "\n",
    "# Load the dataset\n",
    "boston = rdata(\"MASS\", \"Boston\")\n",
    "\n",
    "\n",
    "# Inspect data\n",
    "print(boston.head())\n",
    "print(boston.info())\n",
    "print(boston.describe())"
   ]
  },
  {
   "cell_type": "markdown",
   "id": "a6a724f6",
   "metadata": {},
   "source": [
    "#### Fit a Full Model, Calculating AIC and BIC ####"
   ]
  },
  {
   "cell_type": "code",
   "execution_count": 2,
   "id": "98541fab",
   "metadata": {},
   "outputs": [
    {
     "name": "stdout",
     "output_type": "stream",
     "text": [
      "Full Model AIC: 3026.090\n",
      "Full Model BIC: 3089.488\n"
     ]
    }
   ],
   "source": [
    "# Define response and predictor variables\n",
    "Y = boston['medv']  # Response variable\n",
    "X = boston.drop(columns=['medv'])  # All other predictors\n",
    "X = sm.add_constant(X)  # Add intercept\n",
    "\n",
    "# Fit the full model\n",
    "full_model = sm.OLS(Y, X).fit()\n",
    "\n",
    "# Print AIC and BIC\n",
    "print(f\"Full Model AIC: {full_model.aic:.3f}\")\n",
    "print(f\"Full Model BIC: {full_model.bic:.3f}\")"
   ]
  },
  {
   "cell_type": "markdown",
   "id": "6405561e",
   "metadata": {},
   "source": [
    "#### Compare Models with Different Subsets of Predictors ####"
   ]
  },
  {
   "cell_type": "code",
   "execution_count": 3,
   "id": "1853539f",
   "metadata": {},
   "outputs": [
    {
     "name": "stdout",
     "output_type": "stream",
     "text": [
      "Model 1 AIC: 3171.542, BIC: 3184.222\n",
      "Model 2 AIC: 3163.232, BIC: 3180.138\n",
      "Full Model AIC: 3026.090, BIC: 3089.488\n"
     ]
    }
   ],
   "source": [
    "# Subset models\n",
    "X1 = sm.add_constant(boston[['rm', 'lstat']])  # Model with 'rm' and 'lstat'\n",
    "X2 = sm.add_constant(boston[['rm', 'lstat', 'crim']])  # Add 'crim'\n",
    "\n",
    "# Fit models\n",
    "model1 = sm.OLS(Y, X1).fit()\n",
    "model2 = sm.OLS(Y, X2).fit()\n",
    "\n",
    "# Compare AIC and BIC\n",
    "print(f\"Model 1 AIC: {model1.aic:.3f}, BIC: {model1.bic:.3f}\")\n",
    "print(f\"Model 2 AIC: {model2.aic:.3f}, BIC: {model2.bic:.3f}\")\n",
    "print(f\"Full Model AIC: {full_model.aic:.3f}, BIC: {full_model.bic:.3f}\")"
   ]
  }
 ],
 "metadata": {
  "kernelspec": {
   "display_name": "Python (win_c0c1)",
   "language": "python",
   "name": "win_c0c1"
  },
  "language_info": {
   "codemirror_mode": {
    "name": "ipython",
    "version": 3
   },
   "file_extension": ".py",
   "mimetype": "text/x-python",
   "name": "python",
   "nbconvert_exporter": "python",
   "pygments_lexer": "ipython3",
   "version": "3.12.4"
  }
 },
 "nbformat": 4,
 "nbformat_minor": 5
}
